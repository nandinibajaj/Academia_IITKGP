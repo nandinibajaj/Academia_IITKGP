{
  "nbformat": 4,
  "nbformat_minor": 0,
  "metadata": {
    "colab": {
      "name": "CompChem_Lab3_PKC.ipynb",
      "provenance": []
    },
    "kernelspec": {
      "display_name": "Python 3",
      "name": "python3"
    },
    "language_info": {
      "name": "python"
    }
  },
  "cells": [
    {
      "cell_type": "markdown",
      "metadata": {
        "id": "b6C14TAspXYI"
      },
      "source": [
        "**Nandini Bajaj 18CY20020**\n",
        "\n",
        "Lab Assignment 3"
      ]
    },
    {
      "cell_type": "code",
      "metadata": {
        "id": "ijoJNnXXRb_x"
      },
      "source": [
        "import numpy as np\n",
        "import pandas as pd\n",
        "import matplotlib.pyplot as plt\n",
        "from sklearn.metrics import r2_score as r2"
      ],
      "execution_count": 43,
      "outputs": []
    },
    {
      "cell_type": "code",
      "metadata": {
        "id": "9b-btcdGSDtW",
        "colab": {
          "base_uri": "https://localhost:8080/",
          "height": 511
        },
        "outputId": "77bb0c8f-b3fd-48b1-f710-8530e88ff17b"
      },
      "source": [
        "df = pd.read_csv(\"/content/Dataset-Lab3.xlsx - Sheet1 (1).csv\")\n",
        "df"
      ],
      "execution_count": 48,
      "outputs": [
        {
          "output_type": "execute_result",
          "data": {
            "text/html": [
              "<div>\n",
              "<style scoped>\n",
              "    .dataframe tbody tr th:only-of-type {\n",
              "        vertical-align: middle;\n",
              "    }\n",
              "\n",
              "    .dataframe tbody tr th {\n",
              "        vertical-align: top;\n",
              "    }\n",
              "\n",
              "    .dataframe thead th {\n",
              "        text-align: right;\n",
              "    }\n",
              "</style>\n",
              "<table border=\"1\" class=\"dataframe\">\n",
              "  <thead>\n",
              "    <tr style=\"text-align: right;\">\n",
              "      <th></th>\n",
              "      <th>Compounds</th>\n",
              "      <th>w (Xi)</th>\n",
              "      <th>logP (Xi)</th>\n",
              "      <th>pLC50 (expt.) (Yi)</th>\n",
              "    </tr>\n",
              "  </thead>\n",
              "  <tbody>\n",
              "    <tr>\n",
              "      <th>0</th>\n",
              "      <td>1</td>\n",
              "      <td>3.68</td>\n",
              "      <td>5.70</td>\n",
              "      <td>6.38</td>\n",
              "    </tr>\n",
              "    <tr>\n",
              "      <th>1</th>\n",
              "      <td>2</td>\n",
              "      <td>3.02</td>\n",
              "      <td>4.75</td>\n",
              "      <td>5.85</td>\n",
              "    </tr>\n",
              "    <tr>\n",
              "      <th>2</th>\n",
              "      <td>3</td>\n",
              "      <td>2.68</td>\n",
              "      <td>4.16</td>\n",
              "      <td>5.00</td>\n",
              "    </tr>\n",
              "    <tr>\n",
              "      <th>3</th>\n",
              "      <td>4</td>\n",
              "      <td>2.63</td>\n",
              "      <td>4.04</td>\n",
              "      <td>4.89</td>\n",
              "    </tr>\n",
              "    <tr>\n",
              "      <th>4</th>\n",
              "      <td>5</td>\n",
              "      <td>2.33</td>\n",
              "      <td>3.57</td>\n",
              "      <td>4.56</td>\n",
              "    </tr>\n",
              "    <tr>\n",
              "      <th>5</th>\n",
              "      <td>6</td>\n",
              "      <td>2.36</td>\n",
              "      <td>3.57</td>\n",
              "      <td>4.30</td>\n",
              "    </tr>\n",
              "    <tr>\n",
              "      <th>6</th>\n",
              "      <td>7</td>\n",
              "      <td>2.27</td>\n",
              "      <td>3.45</td>\n",
              "      <td>4.40</td>\n",
              "    </tr>\n",
              "    <tr>\n",
              "      <th>7</th>\n",
              "      <td>8</td>\n",
              "      <td>1.95</td>\n",
              "      <td>2.56</td>\n",
              "      <td>3.77</td>\n",
              "    </tr>\n",
              "    <tr>\n",
              "      <th>8</th>\n",
              "      <td>9</td>\n",
              "      <td>1.92</td>\n",
              "      <td>3.01</td>\n",
              "      <td>3.89</td>\n",
              "    </tr>\n",
              "    <tr>\n",
              "      <th>9</th>\n",
              "      <td>10</td>\n",
              "      <td>1.87</td>\n",
              "      <td>3.35</td>\n",
              "      <td>4.33</td>\n",
              "    </tr>\n",
              "    <tr>\n",
              "      <th>10</th>\n",
              "      <td>11</td>\n",
              "      <td>1.40</td>\n",
              "      <td>3.14</td>\n",
              "      <td>4.21</td>\n",
              "    </tr>\n",
              "    <tr>\n",
              "      <th>11</th>\n",
              "      <td>12</td>\n",
              "      <td>1.44</td>\n",
              "      <td>3.14</td>\n",
              "      <td>3.82</td>\n",
              "    </tr>\n",
              "    <tr>\n",
              "      <th>12</th>\n",
              "      <td>13</td>\n",
              "      <td>1.42</td>\n",
              "      <td>3.09</td>\n",
              "      <td>3.48</td>\n",
              "    </tr>\n",
              "    <tr>\n",
              "      <th>13</th>\n",
              "      <td>14</td>\n",
              "      <td>1.53</td>\n",
              "      <td>2.64</td>\n",
              "      <td>3.32</td>\n",
              "    </tr>\n",
              "    <tr>\n",
              "      <th>14</th>\n",
              "      <td>15</td>\n",
              "      <td>1.60</td>\n",
              "      <td>2.14</td>\n",
              "      <td>3.40</td>\n",
              "    </tr>\n",
              "  </tbody>\n",
              "</table>\n",
              "</div>"
            ],
            "text/plain": [
              "    Compounds  w (Xi)  logP (Xi)  pLC50 (expt.) (Yi)\n",
              "0           1    3.68       5.70                6.38\n",
              "1           2    3.02       4.75                5.85\n",
              "2           3    2.68       4.16                5.00\n",
              "3           4    2.63       4.04                4.89\n",
              "4           5    2.33       3.57                4.56\n",
              "5           6    2.36       3.57                4.30\n",
              "6           7    2.27       3.45                4.40\n",
              "7           8    1.95       2.56                3.77\n",
              "8           9    1.92       3.01                3.89\n",
              "9          10    1.87       3.35                4.33\n",
              "10         11    1.40       3.14                4.21\n",
              "11         12    1.44       3.14                3.82\n",
              "12         13    1.42       3.09                3.48\n",
              "13         14    1.53       2.64                3.32\n",
              "14         15    1.60       2.14                3.40"
            ]
          },
          "metadata": {},
          "execution_count": 48
        }
      ]
    },
    {
      "cell_type": "code",
      "metadata": {
        "id": "zcspY8MFSyQM"
      },
      "source": [
        "arr_x =  df['w (Xi)']\n",
        "arr_y =  df['pLC50 (expt.) (Yi)']\n",
        "y1 = np.zeros(15)\n",
        "cpx=[]\n",
        "cpy=[]\n",
        "for i in range(14):\n",
        "  cpx = list(arr_x)\n",
        "  cpy = list(arr_y)\n",
        "  \n",
        "  np.delete(cpx, i)\n",
        "  np.delete(cpy, i)\n",
        "  \n",
        "  m, b = np.polyfit(cpx, cpy, 1)\n",
        "  y1[i] = b + (m*arr_x[i])"
      ],
      "execution_count": 36,
      "outputs": []
    },
    {
      "cell_type": "code",
      "metadata": {
        "colab": {
          "base_uri": "https://localhost:8080/",
          "height": 279
        },
        "id": "Rdu0uqzjghp6",
        "outputId": "94222cf3-affb-460a-d8d7-58c645cff5c6"
      },
      "source": [
        "plt.plot(arr_y, y1, 'o')\n",
        "plt.plot(arr_y, m*arr_y + b)\n",
        "plt.xlabel(\"Y experimental\")\n",
        "plt.ylabel(\"Y calculated (X=w)\")\n",
        "one = r2(y1,arr_y)"
      ],
      "execution_count": 55,
      "outputs": [
        {
          "output_type": "display_data",
          "data": {
            "image/png": "[encoded data removed]",
            "text/plain": [
              "<Figure size 432x288 with 1 Axes>"
            ]
          },
          "metadata": {
            "needs_background": "light"
          }
        }
      ]
    },
    {
      "cell_type": "code",
      "metadata": {
        "colab": {
          "base_uri": "https://localhost:8080/",
          "height": 0
        },
        "id": "sqLCg--ZovAJ",
        "outputId": "154e7b75-33a1-4846-83b7-6b8cc015ec2c"
      },
      "source": [
        "one"
      ],
      "execution_count": 56,
      "outputs": [
        {
          "output_type": "execute_result",
          "data": {
            "text/plain": [
              "0.5235898331343869"
            ]
          },
          "metadata": {},
          "execution_count": 56
        }
      ]
    },
    {
      "cell_type": "code",
      "metadata": {
        "id": "6eMolitHf9NT"
      },
      "source": [
        "arr_x =  df['logP (Xi)']\n",
        "arr_y =  df['pLC50 (expt.) (Yi)']\n",
        "y2 = np.zeros(15)\n",
        "cpx=[]\n",
        "cpy=[]\n",
        "for i in range(14):\n",
        "  cpx = list(arr_x)\n",
        "  cpy = list(arr_y)\n",
        "  \n",
        "  np.delete(cpx, i)\n",
        "  np.delete(cpy, i)\n",
        "  \n",
        "  m, b = np.polyfit(cpx, cpy, 1)\n",
        "  y2[i] = b + (m*arr_x[i])\n"
      ],
      "execution_count": 39,
      "outputs": []
    },
    {
      "cell_type": "code",
      "metadata": {
        "colab": {
          "base_uri": "https://localhost:8080/",
          "height": 279
        },
        "id": "4SK3NZFhh4M6",
        "outputId": "bd6c6594-548a-461f-be72-3a0ed9a15fe6"
      },
      "source": [
        "plt.plot(arr_y, y2, 'o')\n",
        "plt.plot(arr_y, m*arr_y + b)\n",
        "plt.xlabel(\"Y experimental\")\n",
        "plt.ylabel(\"Y calculated (X=logP)\")\n",
        "two = r2(y2, arr_y)"
      ],
      "execution_count": 57,
      "outputs": [
        {
          "output_type": "display_data",
          "data": {
            "image/png": "[encoded data removed]",
            "text/plain": [
              "<Figure size 432x288 with 1 Axes>"
            ]
          },
          "metadata": {
            "needs_background": "light"
          }
        }
      ]
    },
    {
      "cell_type": "code",
      "metadata": {
        "colab": {
          "base_uri": "https://localhost:8080/",
          "height": 0
        },
        "id": "VVoW-Fxno1W0",
        "outputId": "47c6d122-15ab-4a65-e26e-37944671216a"
      },
      "source": [
        "two"
      ],
      "execution_count": 58,
      "outputs": [
        {
          "output_type": "execute_result",
          "data": {
            "text/plain": [
              "0.5465214787794805"
            ]
          },
          "metadata": {},
          "execution_count": 58
        }
      ]
    },
    {
      "cell_type": "code",
      "metadata": {
        "colab": {
          "base_uri": "https://localhost:8080/",
          "height": 0
        },
        "id": "Q1hxuLmdnMSd",
        "outputId": "ae64b13b-fb3c-4e7b-c214-57328a311dd8"
      },
      "source": [
        "if(one > two):\n",
        "  print(\"The descriptor w works better than logP\")\n",
        "else:\n",
        "  print(\"The descriptor logP works better than w\")"
      ],
      "execution_count": 59,
      "outputs": [
        {
          "output_type": "stream",
          "name": "stdout",
          "text": [
            "The descriptor logP works better than w\n"
          ]
        }
      ]
    },
    {
      "cell_type": "code",
      "metadata": {
        "colab": {
          "base_uri": "https://localhost:8080/",
          "height": 0
        },
        "id": "AEEf1syHWFBF",
        "outputId": "3d1ace39-923e-4477-f63c-183a311ceedf"
      },
      "source": [
        "y1"
      ],
      "execution_count": 21,
      "outputs": [
        {
          "output_type": "execute_result",
          "data": {
            "text/plain": [
              "array([6.26357439, 5.45347108, 5.03614513, 4.97477367, 4.60654489,\n",
              "       4.64336777, 4.53289914, 4.14012177, 4.1032989 , 4.04192743,\n",
              "       3.46503568, 3.51413285, 3.48958427, 3.62460149])"
            ]
          },
          "metadata": {},
          "execution_count": 21
        }
      ]
    },
    {
      "cell_type": "code",
      "metadata": {
        "colab": {
          "base_uri": "https://localhost:8080/",
          "height": 0
        },
        "id": "H5BdLxHJY9Uj",
        "outputId": "3e951ccf-8dd8-48da-f997-ca8b23f6b6cc"
      },
      "source": [
        "y2"
      ],
      "execution_count": 23,
      "outputs": [
        {
          "output_type": "execute_result",
          "data": {
            "text/plain": [
              "array([6.45321604, 5.56022633, 5.00563272, 4.89283401, 4.4510391 ,\n",
              "       4.4510391 , 4.3382404 , 3.50165004, 3.92464517, 4.24424149,\n",
              "       4.04684376, 4.04684376, 3.9998443 , 3.57684918])"
            ]
          },
          "metadata": {},
          "execution_count": 23
        }
      ]
    },
    {
      "cell_type": "code",
      "metadata": {
        "id": "Z3DtLJbPqsxd"
      },
      "source": [
        "df['Y calc(with X=w)'] = y1\n",
        "df['Y calc(with X=logP)'] = y2"
      ],
      "execution_count": 60,
      "outputs": []
    },
    {
      "cell_type": "code",
      "metadata": {
        "colab": {
          "base_uri": "https://localhost:8080/",
          "height": 528
        },
        "id": "6REajgQOq21k",
        "outputId": "42f530e6-7a9a-45df-c8f7-040ba5e4c87b"
      },
      "source": [
        "df\n"
      ],
      "execution_count": 61,
      "outputs": [
        {
          "output_type": "execute_result",
          "data": {
            "text/html": [
              "<div>\n",
              "<style scoped>\n",
              "    .dataframe tbody tr th:only-of-type {\n",
              "        vertical-align: middle;\n",
              "    }\n",
              "\n",
              "    .dataframe tbody tr th {\n",
              "        vertical-align: top;\n",
              "    }\n",
              "\n",
              "    .dataframe thead th {\n",
              "        text-align: right;\n",
              "    }\n",
              "</style>\n",
              "<table border=\"1\" class=\"dataframe\">\n",
              "  <thead>\n",
              "    <tr style=\"text-align: right;\">\n",
              "      <th></th>\n",
              "      <th>Compounds</th>\n",
              "      <th>w (Xi)</th>\n",
              "      <th>logP (Xi)</th>\n",
              "      <th>pLC50 (expt.) (Yi)</th>\n",
              "      <th>Y calc(with X=w)</th>\n",
              "      <th>Y calc(with X=logP)</th>\n",
              "    </tr>\n",
              "  </thead>\n",
              "  <tbody>\n",
              "    <tr>\n",
              "      <th>0</th>\n",
              "      <td>1</td>\n",
              "      <td>3.68</td>\n",
              "      <td>5.70</td>\n",
              "      <td>6.38</td>\n",
              "      <td>6.263574</td>\n",
              "      <td>6.453216</td>\n",
              "    </tr>\n",
              "    <tr>\n",
              "      <th>1</th>\n",
              "      <td>2</td>\n",
              "      <td>3.02</td>\n",
              "      <td>4.75</td>\n",
              "      <td>5.85</td>\n",
              "      <td>5.453471</td>\n",
              "      <td>5.560226</td>\n",
              "    </tr>\n",
              "    <tr>\n",
              "      <th>2</th>\n",
              "      <td>3</td>\n",
              "      <td>2.68</td>\n",
              "      <td>4.16</td>\n",
              "      <td>5.00</td>\n",
              "      <td>5.036145</td>\n",
              "      <td>5.005633</td>\n",
              "    </tr>\n",
              "    <tr>\n",
              "      <th>3</th>\n",
              "      <td>4</td>\n",
              "      <td>2.63</td>\n",
              "      <td>4.04</td>\n",
              "      <td>4.89</td>\n",
              "      <td>4.974774</td>\n",
              "      <td>4.892834</td>\n",
              "    </tr>\n",
              "    <tr>\n",
              "      <th>4</th>\n",
              "      <td>5</td>\n",
              "      <td>2.33</td>\n",
              "      <td>3.57</td>\n",
              "      <td>4.56</td>\n",
              "      <td>4.606545</td>\n",
              "      <td>4.451039</td>\n",
              "    </tr>\n",
              "    <tr>\n",
              "      <th>5</th>\n",
              "      <td>6</td>\n",
              "      <td>2.36</td>\n",
              "      <td>3.57</td>\n",
              "      <td>4.30</td>\n",
              "      <td>4.643368</td>\n",
              "      <td>4.451039</td>\n",
              "    </tr>\n",
              "    <tr>\n",
              "      <th>6</th>\n",
              "      <td>7</td>\n",
              "      <td>2.27</td>\n",
              "      <td>3.45</td>\n",
              "      <td>4.40</td>\n",
              "      <td>4.532899</td>\n",
              "      <td>4.338240</td>\n",
              "    </tr>\n",
              "    <tr>\n",
              "      <th>7</th>\n",
              "      <td>8</td>\n",
              "      <td>1.95</td>\n",
              "      <td>2.56</td>\n",
              "      <td>3.77</td>\n",
              "      <td>4.140122</td>\n",
              "      <td>3.501650</td>\n",
              "    </tr>\n",
              "    <tr>\n",
              "      <th>8</th>\n",
              "      <td>9</td>\n",
              "      <td>1.92</td>\n",
              "      <td>3.01</td>\n",
              "      <td>3.89</td>\n",
              "      <td>4.103299</td>\n",
              "      <td>3.924645</td>\n",
              "    </tr>\n",
              "    <tr>\n",
              "      <th>9</th>\n",
              "      <td>10</td>\n",
              "      <td>1.87</td>\n",
              "      <td>3.35</td>\n",
              "      <td>4.33</td>\n",
              "      <td>4.041927</td>\n",
              "      <td>4.244241</td>\n",
              "    </tr>\n",
              "    <tr>\n",
              "      <th>10</th>\n",
              "      <td>11</td>\n",
              "      <td>1.40</td>\n",
              "      <td>3.14</td>\n",
              "      <td>4.21</td>\n",
              "      <td>3.465036</td>\n",
              "      <td>4.046844</td>\n",
              "    </tr>\n",
              "    <tr>\n",
              "      <th>11</th>\n",
              "      <td>12</td>\n",
              "      <td>1.44</td>\n",
              "      <td>3.14</td>\n",
              "      <td>3.82</td>\n",
              "      <td>3.514133</td>\n",
              "      <td>4.046844</td>\n",
              "    </tr>\n",
              "    <tr>\n",
              "      <th>12</th>\n",
              "      <td>13</td>\n",
              "      <td>1.42</td>\n",
              "      <td>3.09</td>\n",
              "      <td>3.48</td>\n",
              "      <td>3.489584</td>\n",
              "      <td>3.999844</td>\n",
              "    </tr>\n",
              "    <tr>\n",
              "      <th>13</th>\n",
              "      <td>14</td>\n",
              "      <td>1.53</td>\n",
              "      <td>2.64</td>\n",
              "      <td>3.32</td>\n",
              "      <td>3.624601</td>\n",
              "      <td>3.576849</td>\n",
              "    </tr>\n",
              "    <tr>\n",
              "      <th>14</th>\n",
              "      <td>15</td>\n",
              "      <td>1.60</td>\n",
              "      <td>2.14</td>\n",
              "      <td>3.40</td>\n",
              "      <td>0.000000</td>\n",
              "      <td>0.000000</td>\n",
              "    </tr>\n",
              "  </tbody>\n",
              "</table>\n",
              "</div>"
            ],
            "text/plain": [
              "    Compounds  w (Xi)  ...  Y calc(with X=w)  Y calc(with X=logP)\n",
              "0           1    3.68  ...          6.263574             6.453216\n",
              "1           2    3.02  ...          5.453471             5.560226\n",
              "2           3    2.68  ...          5.036145             5.005633\n",
              "3           4    2.63  ...          4.974774             4.892834\n",
              "4           5    2.33  ...          4.606545             4.451039\n",
              "5           6    2.36  ...          4.643368             4.451039\n",
              "6           7    2.27  ...          4.532899             4.338240\n",
              "7           8    1.95  ...          4.140122             3.501650\n",
              "8           9    1.92  ...          4.103299             3.924645\n",
              "9          10    1.87  ...          4.041927             4.244241\n",
              "10         11    1.40  ...          3.465036             4.046844\n",
              "11         12    1.44  ...          3.514133             4.046844\n",
              "12         13    1.42  ...          3.489584             3.999844\n",
              "13         14    1.53  ...          3.624601             3.576849\n",
              "14         15    1.60  ...          0.000000             0.000000\n",
              "\n",
              "[15 rows x 6 columns]"
            ]
          },
          "metadata": {},
          "execution_count": 61
        }
      ]
    },
    {
      "cell_type": "code",
      "metadata": {
        "id": "AitKK41Uq3WQ"
      },
      "source": [
        ""
      ],
      "execution_count": null,
      "outputs": []
    }
  ]
}