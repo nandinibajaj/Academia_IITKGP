{
  "nbformat": 4,
  "nbformat_minor": 0,
  "metadata": {
    "colab": {
      "name": "Lab1_ComputationalChemistry.ipynb",
      "provenance": []
    },
    "kernelspec": {
      "name": "python3",
      "display_name": "Python 3"
    },
    "language_info": {
      "name": "python"
    }
  },
  "cells": [
    {
      "cell_type": "markdown",
      "metadata": {
        "id": "PkUf4y_4VWa8"
      },
      "source": [
        "**Nandini Bajaj 18CY20020**\n",
        "\n",
        "Lab Assignment 1\n"
      ]
    },
    {
      "cell_type": "code",
      "metadata": {
        "id": "zbVqKBhLU_OX"
      },
      "source": [
        "def ke_one_particle(vx, vy, vz, m):\n",
        "  return ((vx*vx) + (vy*vy) + (vz*vz)) * m /2      "
      ],
      "execution_count": 1,
      "outputs": []
    },
    {
      "cell_type": "code",
      "metadata": {
        "id": "P5fKgomnVEx_"
      },
      "source": [
        "def ke_of_same_mass(n_1, v_x, v_y, v_z, m_1):          \n",
        "  ans = 0\n",
        "  for i in range(n_1):\n",
        "    ans += ke_one_particle(v_x[i], v_y[i], v_z[i], m_1)\n",
        "  return ans "
      ],
      "execution_count": 2,
      "outputs": []
    },
    {
      "cell_type": "code",
      "metadata": {
        "colab": {
          "base_uri": "https://localhost:8080/"
        },
        "id": "Xo_J7fPFVE03",
        "outputId": "01d4cfe3-7560-4f21-e91e-6dfbb932f803"
      },
      "source": [
        "n_1 = int(input(\"Enter the number of particles:  \"))          \n",
        "m_1 = float(input(\"Enter the mass of the particle:  \"))\n",
        "v_ix = []\n",
        "v_iy = []\n",
        "v_iz = []\n",
        "for i in range(n_1):\n",
        "    print(\"Enter x component of velocity of particle\", i+1, \": \")\n",
        "    v_ix.append(float(input()))\n",
        "    print(\"Enter y component of velocity of particle\", i+1, \": \")\n",
        "    v_iy.append(float(input()))\n",
        "    print(\"Enter z component of velocity of particle\", i+1, \": \")\n",
        "    v_iz.append(float(input()))"
      ],
      "execution_count": 7,
      "outputs": [
        {
          "name": "stdout",
          "output_type": "stream",
          "text": [
            "Enter the number of particles:  10\n",
            "Enter the mass of the particle:  1\n",
            "Enter x component of velocity of particle 1 : \n",
            "1.1\n",
            "Enter y component of velocity of particle 1 : \n",
            "1.03\n",
            "Enter z component of velocity of particle 1 : \n",
            "-1.1\n",
            "Enter x component of velocity of particle 2 : \n",
            "-1.2\n",
            "Enter y component of velocity of particle 2 : \n",
            "1.3\n",
            "Enter z component of velocity of particle 2 : \n",
            "1.1\n",
            "Enter x component of velocity of particle 3 : \n",
            "1.1\n",
            "Enter y component of velocity of particle 3 : \n",
            "-1.3\n",
            "Enter z component of velocity of particle 3 : \n",
            "1.1\n",
            "Enter x component of velocity of particle 4 : \n",
            "1.1\n",
            "Enter y component of velocity of particle 4 : \n",
            "-1.03\n",
            "Enter z component of velocity of particle 4 : \n",
            "-1.1\n",
            "Enter x component of velocity of particle 5 : \n",
            "-1.1\n",
            "Enter y component of velocity of particle 5 : \n",
            "-1.03\n",
            "Enter z component of velocity of particle 5 : \n",
            "1.1\n",
            "Enter x component of velocity of particle 6 : \n",
            "0.9\n",
            "Enter y component of velocity of particle 6 : \n",
            "1.0\n",
            "Enter z component of velocity of particle 6 : \n",
            "1.1\n",
            "Enter x component of velocity of particle 7 : \n",
            "0.9\n",
            "Enter y component of velocity of particle 7 : \n",
            "-1.0\n",
            "Enter z component of velocity of particle 7 : \n",
            "1.1\n",
            "Enter x component of velocity of particle 8 : \n",
            "-0.9\n",
            "Enter y component of velocity of particle 8 : \n",
            "1.0\n",
            "Enter z component of velocity of particle 8 : \n",
            "1.1\n",
            "Enter x component of velocity of particle 9 : \n",
            "0.9\n",
            "Enter y component of velocity of particle 9 : \n",
            "-1.0\n",
            "Enter z component of velocity of particle 9 : \n",
            "-1.1\n",
            "Enter x component of velocity of particle 10 : \n",
            "-0.9\n",
            "Enter y component of velocity of particle 10 : \n",
            "-1.0\n",
            "Enter z component of velocity of particle 10 : \n",
            "1.1\n"
          ]
        }
      ]
    },
    {
      "cell_type": "code",
      "metadata": {
        "colab": {
          "base_uri": "https://localhost:8080/"
        },
        "id": "UTqa8FhLVE4Y",
        "outputId": "dc072d7b-4c56-4197-b9aa-b9c0f2fc0445"
      },
      "source": [
        "print(\"KE of the system containing 10 particles: \", ke_of_same_mass(n_1, v_ix, v_iy, v_iz, m_1))"
      ],
      "execution_count": 9,
      "outputs": [
        {
          "output_type": "stream",
          "name": "stdout",
          "text": [
            "KE of the system containing 10 particles:  16.99635\n"
          ]
        }
      ]
    },
    {
      "cell_type": "code",
      "metadata": {
        "id": "OM7_n_ZwVFC0"
      },
      "source": [
        ""
      ],
      "execution_count": null,
      "outputs": []
    }
  ]
}