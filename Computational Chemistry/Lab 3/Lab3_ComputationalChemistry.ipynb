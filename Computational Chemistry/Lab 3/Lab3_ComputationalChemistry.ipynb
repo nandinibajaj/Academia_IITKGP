{
  "nbformat": 4,
  "nbformat_minor": 0,
  "metadata": {
    "kernelspec": {
      "display_name": "Python 3",
      "language": "python",
      "name": "python3"
    },
    "language_info": {
      "codemirror_mode": {
        "name": "ipython",
        "version": 3
      },
      "file_extension": ".py",
      "mimetype": "text/x-python",
      "name": "python",
      "nbconvert_exporter": "python",
      "pygments_lexer": "ipython3",
      "version": "3.7.1"
    },
    "colab": {
      "name": "Lab3_ComputationalChemistry.ipynb",
      "provenance": []
    }
  },
  "cells": [
    {
      "cell_type": "code",
      "metadata": {
        "id": "T2Uz8RhwL_QW"
      },
      "source": [
        ""
      ],
      "execution_count": 14,
      "outputs": []
    },
    {
      "cell_type": "markdown",
      "metadata": {
        "id": "g04pxTO_MAmd"
      },
      "source": [
        "**NANDINI BAJAJ 18CY20020**\n"
      ]
    },
    {
      "cell_type": "markdown",
      "metadata": {
        "id": "QYWjXVDMMKJW"
      },
      "source": [
        "Laboratory Assignment 3"
      ]
    },
    {
      "cell_type": "code",
      "metadata": {
        "id": "UR8ONa0WHOrv"
      },
      "source": [
        "import pandas as pd\n",
        "import numpy as np\n",
        "import math\n",
        "import random\n",
        "import matplotlib.pyplot as plt"
      ],
      "execution_count": 15,
      "outputs": []
    },
    {
      "cell_type": "code",
      "metadata": {
        "id": "IKqeurK8HOry"
      },
      "source": [
        "data = pd.read_csv(\"/content/sample_data/input_data.csv\") #saved the model.txt file provided into csv and then import"
      ],
      "execution_count": 16,
      "outputs": []
    },
    {
      "cell_type": "code",
      "metadata": {
        "id": "RMTklzvTHOrz"
      },
      "source": [
        "def pbc_on_one_particle(x, y, z):\n",
        "        L = 18.64\n",
        "        applied_pbc = False\n",
        "        if x>L/2: \n",
        "            x = x - L\n",
        "            applied_pbc = True\n",
        "        elif x<= -L/2:\n",
        "            x = x + L\n",
        "            applied_pbc = True\n",
        "        \n",
        "        if y > L/2: \n",
        "            y = y - L\n",
        "            applied_pbc = True\n",
        "        elif y<= -L/2: \n",
        "            y = y + L\n",
        "            applied_pbc = True\n",
        "            \n",
        "        if z > L/2: \n",
        "            z = z - L\n",
        "            applied_pbc = True\n",
        "        elif z<= -L/2: \n",
        "            z = z + L\n",
        "            applied_pbc = True\n",
        "        \n",
        "        return x,y,z, applied_pbc\n",
        "        "
      ],
      "execution_count": 17,
      "outputs": []
    },
    {
      "cell_type": "code",
      "metadata": {
        "id": "NKKbY1SOHOr0"
      },
      "source": [
        "def pbc(df, n):\n",
        "    ans = 0      #total number of pbc appplied in 1 iteration\n",
        "    for i in range(n):\n",
        "        #choosing in which direction particle should be moved\n",
        "        coordinate_choosing = random.randint(1, 3)    # to generate either 1,2 or 3\n",
        "                                                  # 1 for change in x, 2 for y and 3 for z\n",
        "        directional_choosing = random.randint(1,2)    # to generate either 1 or 2\n",
        "                                                  # 1 for +1 ams and 2 for -1ams\n",
        "    \n",
        "        x = df.iloc[i][0]\n",
        "        y = df.iloc[i][1]\n",
        "        z = df.iloc[i][2]\n",
        "        \n",
        "        if(coordinate_choosing == 1):\n",
        "            if(directional_choosing == 1):\n",
        "                x = x + 1\n",
        "            else:\n",
        "                x = x - 1\n",
        "                \n",
        "        elif(coordinate_choosing == 2):\n",
        "            if(directional_choosing == 1):\n",
        "                y = y + 1\n",
        "            else:\n",
        "                y = y - 1\n",
        "                \n",
        "        elif(coordinate_choosing == 3):\n",
        "            if(directional_choosing == 1):\n",
        "                z = z + 1\n",
        "            else:\n",
        "                z = z - 1\n",
        "        \n",
        "        x, y, z, applied_pbc = pbc_on_one_particle(x ,y, z)\n",
        "        df.iloc[i][0] = x\n",
        "        df.iloc[i][1] = y\n",
        "        df.iloc[i][2] = z\n",
        "        if(applied_pbc == True):\n",
        "            ans += 1\n",
        "    \n",
        "    return df, ans\n",
        "            \n",
        "        "
      ],
      "execution_count": 18,
      "outputs": []
    },
    {
      "cell_type": "code",
      "metadata": {
        "id": "SxgKBZ8vHOr1"
      },
      "source": [
        "def start_the_routine(df):\n",
        "    for i in range(20):\n",
        "        df, pbc_count_in_one_iteration = pbc(df, data.shape[0])\n",
        "        print(\"Number of molecules that experienced PBC in iteration \", i+1,\" = \", pbc_count_in_one_iteration)\n",
        "        if(i == 4):\n",
        "            df.to_csv(\"iteration_5.csv\")\n",
        "        elif(i == 9):\n",
        "            df.to_csv(\"iteration_10.csv\")\n",
        "        elif(i == 19):\n",
        "            df.to_csv(\"iteration_20.csv\")"
      ],
      "execution_count": 19,
      "outputs": []
    },
    {
      "cell_type": "code",
      "metadata": {
        "colab": {
          "base_uri": "https://localhost:8080/"
        },
        "id": "YTHyRxO2HOr1",
        "outputId": "331f61a7-9ba3-4f2f-a6c4-17e189a16406"
      },
      "source": [
        "data_copy = data.copy()\n",
        "start_the_routine(data_copy)"
      ],
      "execution_count": 20,
      "outputs": [
        {
          "output_type": "stream",
          "name": "stdout",
          "text": [
            "Number of molecules that experienced PBC in iteration  1  =  12\n",
            "Number of molecules that experienced PBC in iteration  2  =  13\n",
            "Number of molecules that experienced PBC in iteration  3  =  18\n",
            "Number of molecules that experienced PBC in iteration  4  =  12\n",
            "Number of molecules that experienced PBC in iteration  5  =  8\n",
            "Number of molecules that experienced PBC in iteration  6  =  10\n",
            "Number of molecules that experienced PBC in iteration  7  =  9\n",
            "Number of molecules that experienced PBC in iteration  8  =  9\n",
            "Number of molecules that experienced PBC in iteration  9  =  9\n",
            "Number of molecules that experienced PBC in iteration  10  =  11\n",
            "Number of molecules that experienced PBC in iteration  11  =  8\n",
            "Number of molecules that experienced PBC in iteration  12  =  9\n",
            "Number of molecules that experienced PBC in iteration  13  =  8\n",
            "Number of molecules that experienced PBC in iteration  14  =  8\n",
            "Number of molecules that experienced PBC in iteration  15  =  5\n",
            "Number of molecules that experienced PBC in iteration  16  =  13\n",
            "Number of molecules that experienced PBC in iteration  17  =  8\n",
            "Number of molecules that experienced PBC in iteration  18  =  13\n",
            "Number of molecules that experienced PBC in iteration  19  =  13\n",
            "Number of molecules that experienced PBC in iteration  20  =  11\n"
          ]
        }
      ]
    },
    {
      "cell_type": "code",
      "metadata": {
        "id": "8mjLOhUkHOr3"
      },
      "source": [
        ""
      ],
      "execution_count": 20,
      "outputs": []
    },
    {
      "cell_type": "code",
      "metadata": {
        "scrolled": true,
        "id": "e-C2gOd5HOr3"
      },
      "source": [
        ""
      ],
      "execution_count": 20,
      "outputs": []
    },
    {
      "cell_type": "code",
      "metadata": {
        "id": "QKs7cxCPHOr3"
      },
      "source": [
        ""
      ],
      "execution_count": 20,
      "outputs": []
    },
    {
      "cell_type": "code",
      "metadata": {
        "id": "wcf-QKgKHOr3"
      },
      "source": [
        ""
      ],
      "execution_count": 20,
      "outputs": []
    },
    {
      "cell_type": "code",
      "metadata": {
        "id": "JywszJFAHOr4"
      },
      "source": [
        ""
      ],
      "execution_count": 20,
      "outputs": []
    },
    {
      "cell_type": "code",
      "metadata": {
        "id": "EV6Hm3R8HOr4"
      },
      "source": [
        ""
      ],
      "execution_count": 20,
      "outputs": []
    },
    {
      "cell_type": "code",
      "metadata": {
        "id": "g3jfPktvHOr4"
      },
      "source": [
        ""
      ],
      "execution_count": 20,
      "outputs": []
    },
    {
      "cell_type": "code",
      "metadata": {
        "id": "-BzLfSXhHOr4"
      },
      "source": [
        ""
      ],
      "execution_count": 20,
      "outputs": []
    },
    {
      "cell_type": "code",
      "metadata": {
        "id": "pqgzDLhqHOr4"
      },
      "source": [
        ""
      ],
      "execution_count": 20,
      "outputs": []
    },
    {
      "cell_type": "code",
      "metadata": {
        "id": "XYgNaevSHOr5"
      },
      "source": [
        ""
      ],
      "execution_count": 20,
      "outputs": []
    },
    {
      "cell_type": "code",
      "metadata": {
        "id": "68XlDK25HOr5"
      },
      "source": [
        ""
      ],
      "execution_count": 20,
      "outputs": []
    }
  ]
}