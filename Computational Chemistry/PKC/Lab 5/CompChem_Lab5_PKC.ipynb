{
  "nbformat": 4,
  "nbformat_minor": 0,
  "metadata": {
    "colab": {
      "name": "CompChem_Lab5_PKC.ipynb",
      "provenance": []
    },
    "kernelspec": {
      "name": "python3",
      "display_name": "Python 3"
    },
    "language_info": {
      "name": "python"
    }
  },
  "cells": [
    {
      "cell_type": "markdown",
      "metadata": {
        "id": "jkbDGRd7YDuz"
      },
      "source": [
        "**NANDINI BAJAJ 18CY20020**\n",
        "Lab 5"
      ]
    },
    {
      "cell_type": "code",
      "metadata": {
        "id": "iIEuYaHXgFhP"
      },
      "source": [
        "import math\n",
        "import numpy as np"
      ],
      "execution_count": 1,
      "outputs": []
    },
    {
      "cell_type": "code",
      "metadata": {
        "id": "_WWJLjhCZhzX"
      },
      "source": [
        "a = 0\n",
        "b = 0\n",
        "c = 0\n",
        "d = 0"
      ],
      "execution_count": 2,
      "outputs": []
    },
    {
      "cell_type": "code",
      "metadata": {
        "id": "KY68YjoBH2_H"
      },
      "source": [
        "def sin(x):\n",
        "    return math.sin(x)\n",
        "def sin2(x):\n",
        "    return math.sin(2*x)\n",
        "def dsin(x):\n",
        "    return math.cos(x)\n",
        "def sinsq(x):\n",
        "    return math.sin(x)**2\n",
        "def sinsq2(x):\n",
        "    return math.sin(2*x)**2\n",
        "def sin_1(x):\n",
        "    return (math.sin(x) / math.sqrt(a))\n",
        "def sin2_1(x):\n",
        "    return (math.sin(2*x) / math.sqrt(c))\n",
        "def dsin_2(x):\n",
        "    return -1*(math.sin(x) / math.sqrt(a))\n",
        "def dsin2_2(x):\n",
        "    return -4*(math.sin(2*x) / math.sqrt(c))\n",
        "\n",
        "def cos(x):\n",
        "    return math.cos(x)\n",
        "def dcos(x):\n",
        "    return -math.sin(x)\n",
        "def cos2(x):\n",
        "    return math.cos(2*x)\n",
        "def cossq(x):\n",
        "    return math.cos(x)**2\n",
        "def cossq2(x):\n",
        "    return math.cos(2*x)**2\n",
        "def cos_1(x):\n",
        "    return (math.cos(x) / math.sqrt(b))\n",
        "def cos2_1(x):\n",
        "    return (math.cos(2*x) / math.sqrt(d))\n",
        "def dcos_2(x):\n",
        "    return -1*(math.cos(x) / math.sqrt(b))\n",
        "def dcos2_2(x):\n",
        "    return -4*(math.cos(2*x) / math.sqrt(d))"
      ],
      "execution_count": 3,
      "outputs": []
    },
    {
      "cell_type": "code",
      "metadata": {
        "id": "QhO61UZuH3A2"
      },
      "source": [
        "def trapezoidal(f, x0, xn, n):\n",
        "    h = (xn - x0) / n\n",
        "    integral = f(x0) + f(xn)\n",
        "    for i in range(1,n):\n",
        "        k = x0 + i * h\n",
        "        integral = integral + 2 * f(k)\n",
        "    \n",
        "    integral = integral * h / 2\n",
        "    return integral"
      ],
      "execution_count": 4,
      "outputs": []
    },
    {
      "cell_type": "code",
      "metadata": {
        "id": "159Oke1DhUES"
      },
      "source": [
        "def trapezoidal_multi(f1, f2, x0, xn, n):\n",
        "  h = (xn - x0) / n\n",
        "  integral = f1(x0) * f2(x0) + f1(xn) * f2(xn)\n",
        "  for i in range(1,n):\n",
        "    k = x0 + i * h\n",
        "    integral = integral + 2 * f1(k) * f2(k)\n",
        "  \n",
        "  integral = integral * h / 2\n",
        "  return integral"
      ],
      "execution_count": 5,
      "outputs": []
    },
    {
      "cell_type": "code",
      "metadata": {
        "id": "6qZtUnijG7EX",
        "colab": {
          "base_uri": "https://localhost:8080/"
        },
        "outputId": "a388acfe-7d10-4871-d652-58f3935b4bce"
      },
      "source": [
        "st = 0\n",
        "nd = 2 * math.pi\n",
        "\n",
        "a = trapezoidal(sinsq, st, nd, 20)\n",
        "b = trapezoidal(cossq, st, nd, 10)\n",
        "c = trapezoidal(sinsq2, st, nd, 20)\n",
        "d = trapezoidal(cossq2, st, nd, 20)\n",
        "\n",
        "print(\"<phi|phi> before normalization: \" + str(a) + str(b) + str(c) + str(d) + \"\\n\")\n",
        "arr_1=[sin_1, sin2_1, cos_1, cos2_1]\n",
        "\n",
        "for i in range(4):\n",
        "  for j in range(i+1, 4):\n",
        "    print(\"Integration on multiplying: \", arr_1[i].__name__ , arr_1[j].__name__, \" is: \", round(trapezoidal_multi(arr_1[i], arr_1[j], st, nd, 20), 3))\n",
        "\n",
        "print(\"\\n\")        \n",
        "print(\"If all the above values are zero we can say, the basis set is orthogonal for L\")\n",
        "      "
      ],
      "execution_count": 6,
      "outputs": [
        {
          "output_type": "stream",
          "name": "stdout",
          "text": [
            "<phi|phi> before normalization: \n",
            "3.141592653589793 3.141592653589793 3.141592653589793 3.1415926535897936\n",
            "\n",
            "\n",
            "Integration of multiplicaton of:  sin_1 sin2_1  is:  -0.0\n",
            "Integration of multiplicaton of:  sin_1 cos_1  is:  0.0\n",
            "Integration of multiplicaton of:  sin_1 cos2_1  is:  -0.0\n",
            "Integration of multiplicaton of:  sin2_1 cos_1  is:  -0.0\n",
            "Integration of multiplicaton of:  sin2_1 cos2_1  is:  0.0\n",
            "Integration of multiplicaton of:  cos_1 cos2_1  is:  -0.0\n",
            "\n",
            "All values are zero implies basis set is orthogonal for L\n"
          ]
        }
      ]
    },
    {
      "cell_type": "code",
      "metadata": {
        "id": "gje3DJQsG7HB",
        "colab": {
          "base_uri": "https://localhost:8080/"
        },
        "outputId": "96dd64e8-6f32-45f2-ca9c-19a1e9047186"
      },
      "source": [
        "arr_2 = [dsin_2, dsin2_2, dcos_2, dcos2_2]\n",
        "H = np.zeros([4,4])\n",
        "\n",
        "for i in range(4):\n",
        "  for j in range(4):\n",
        "    H[i][j] = round(trapezoidal_multi(arr_1[i], arr_2[j], st, nd, 200), 3)\n",
        "      \n",
        "h_ = 1.0545e-34\n",
        "m = 9.1e-31\n",
        "const = -(h_**2) / (2*m)\n",
        "\n",
        "print(const*H)"
      ],
      "execution_count": 7,
      "outputs": [
        {
          "output_type": "stream",
          "name": "stdout",
          "text": [
            "[[ 6.10972665e-39  0.00000000e+00 -0.00000000e+00 -0.00000000e+00]\n",
            " [ 0.00000000e+00  2.44389066e-38  0.00000000e+00 -0.00000000e+00]\n",
            " [-0.00000000e+00  0.00000000e+00  6.10972665e-39  0.00000000e+00]\n",
            " [-0.00000000e+00 -0.00000000e+00  0.00000000e+00  2.44389066e-38]]\n"
          ]
        }
      ]
    },
    {
      "cell_type": "code",
      "metadata": {
        "id": "RdzdRsIJYCzQ"
      },
      "source": [
        ""
      ],
      "execution_count": null,
      "outputs": []
    }
  ]
}