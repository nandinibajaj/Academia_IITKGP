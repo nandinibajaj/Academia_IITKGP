{
  "nbformat": 4,
  "nbformat_minor": 0,
  "metadata": {
    "kernelspec": {
      "display_name": "Python 3",
      "language": "python",
      "name": "python3"
    },
    "language_info": {
      "codemirror_mode": {
        "name": "ipython",
        "version": 3
      },
      "file_extension": ".py",
      "mimetype": "text/x-python",
      "name": "python",
      "nbconvert_exporter": "python",
      "pygments_lexer": "ipython3",
      "version": "3.7.1"
    },
    "colab": {
      "name": "Lab5_ComputationalChem.ipynb",
      "provenance": []
    }
  },
  "cells": [
    {
      "cell_type": "markdown",
      "metadata": {
        "id": "PTIltW2-GSc9"
      },
      "source": [
        "**Nandini Bajaj 18CY20020**\n",
        "\n",
        "Lab Assignment 5\n"
      ]
    },
    {
      "cell_type": "code",
      "metadata": {
        "id": "klhcRZGV8UPv"
      },
      "source": [
        "import pandas as pd\n",
        "import numpy as np\n",
        "import math\n",
        "import random\n",
        "import matplotlib.pyplot as plt"
      ],
      "execution_count": 16,
      "outputs": []
    },
    {
      "cell_type": "code",
      "metadata": {
        "id": "M_4m9efD8UPw"
      },
      "source": [
        "step_1 = pd.read_csv(\"step_1.csv\")\n",
        "step_2 = pd.read_csv(\"step_2.csv\")\n",
        "step_3 = pd.read_csv(\"step_3.csv\")\n",
        "step_4 = pd.read_csv(\"step_4.csv\")\n",
        "step_5 = pd.read_csv(\"step_5.csv\")"
      ],
      "execution_count": 17,
      "outputs": []
    },
    {
      "cell_type": "code",
      "metadata": {
        "id": "SRFvXtfj8UPx"
      },
      "source": [
        "l_steps = [step_1, step_2, step_3, step_4, step_5]"
      ],
      "execution_count": 18,
      "outputs": []
    },
    {
      "cell_type": "code",
      "metadata": {
        "id": "TF7vRe5U8UPy"
      },
      "source": [
        "#12 - 6 lennard jones\n",
        "#r,rc,eps,sig\n",
        "def lennard_jones(r, rc, eps, sig, m = 12, n = 6):\n",
        "    if r>=rc:     \n",
        "        return 0\n",
        "    a1 = sig/r\n",
        "    a = 4*eps*(pow(a1,m)-pow(a1,n))\n",
        "    return a"
      ],
      "execution_count": 19,
      "outputs": []
    },
    {
      "cell_type": "code",
      "metadata": {
        "id": "bZ17ZBtb8UPy"
      },
      "source": [
        "#:L=26\n",
        "def minimum_image_convention(dis, L):\n",
        "    if dis > L/2:\n",
        "        dis = dis - L\n",
        "    elif dis <= -L/2:\n",
        "        dis = dis + L\n",
        "    return dis"
      ],
      "execution_count": 20,
      "outputs": []
    },
    {
      "cell_type": "code",
      "metadata": {
        "id": "YrRPp0Lh8UPz"
      },
      "source": [
        "def cal_pot_energy(pos, N, L, rc, eps, sig):\n",
        "    #potential energy\n",
        "    v_net = 0.0    \n",
        "    \n",
        "    for i in range(N-1):\n",
        "        x1 = pos.iloc[i][0]\n",
        "        y1 = pos.iloc[i][1]\n",
        "        z1 = pos.iloc[i][2]\n",
        "        for j in range(i+1, N):\n",
        "            x2 = pos.iloc[j][0]\n",
        "            y2 = pos.iloc[j][1]\n",
        "            z2 = pos.iloc[j][2]\n",
        "            \n",
        "            #minimum image convention\n",
        "            dx = x2 - x1\n",
        "            dy = y2 - y1\n",
        "            dz = z2 - z1\n",
        "            \n",
        "            dx = minimum_image_convention(dx, L)\n",
        "            dy = minimum_image_convention(dy, L)\n",
        "            dz = minimum_image_convention(dz, L)\n",
        "            \n",
        "            r_ij = math.sqrt(dx*dx + dy*dy + dz*dz)\n",
        "            v_net += lennard_jones(r_ij, rc, eps, sig)\n",
        "    return v_net"
      ],
      "execution_count": 21,
      "outputs": []
    },
    {
      "cell_type": "code",
      "metadata": {
        "id": "OCdkGnr68UP0"
      },
      "source": [
        "#L\n",
        "def pbc_on_one_particle(x, y, z, L):\n",
        "        applied_pbc = False\n",
        "        if x>L/2: \n",
        "            x = x - L\n",
        "            applied_pbc = True\n",
        "        elif x<= -L/2:\n",
        "            x = x + L\n",
        "            applied_pbc = True\n",
        "        if y > L/2: \n",
        "            y = y - L\n",
        "            applied_pbc = True\n",
        "        elif y<= -L/2: \n",
        "            y = y + L\n",
        "            applied_pbc = True\n",
        "        if z > L/2: \n",
        "            z = z - L\n",
        "            applied_pbc = True\n",
        "        elif z<= -L/2: \n",
        "            z = z + L\n",
        "            applied_pbc = True\n",
        "        \n",
        "        return x,y,z, applied_pbc\n",
        "        "
      ],
      "execution_count": 22,
      "outputs": []
    },
    {
      "cell_type": "code",
      "metadata": {
        "id": "FtBhcggt8UP1"
      },
      "source": [
        "def pbc(df, n, L):\n",
        "    #total no. of pbc in 1 iter\n",
        "    ans = 0      \n",
        "    for i in range(n):\n",
        "        x = df.iloc[i][0]\n",
        "        y = df.iloc[i][1]\n",
        "        z = df.iloc[i][2]\n",
        "\n",
        "        x,y,z,applied_pbc = pbc_on_one_particle(x,y,z, L)\n",
        "        df.iloc[i][0] = x\n",
        "        df.iloc[i][1] = y\n",
        "        df.iloc[i][2] = z\n",
        "        if(applied_pbc == True):\n",
        "            ans += 1\n",
        "    \n",
        "    return df, ans"
      ],
      "execution_count": 23,
      "outputs": []
    },
    {
      "cell_type": "code",
      "metadata": {
        "id": "_uqe9FJj8UP4"
      },
      "source": [
        "def distance_in_3D(ith, jth):\n",
        "    x1 = ith[0]\n",
        "    y1 = ith[1]\n",
        "    z1 = ith[2]\n",
        "    x2 = jth[0]\n",
        "    y2 = jth[1]\n",
        "    z2 = jth[2]\n",
        "    return math.sqrt((x1-x2)**2 + (y1-y2)**2 + (z1-z2)**2)"
      ],
      "execution_count": 24,
      "outputs": []
    },
    {
      "cell_type": "code",
      "metadata": {
        "id": "gBxKSpG48UP7"
      },
      "source": [
        "def force_cal(pos, N, eps, sig):\n",
        "    l_a = [0.0,0.0,0.0]\n",
        "    arr = [l_a for i in range(N)]\n",
        "    force = pd.DataFrame(arr, columns = [\"x\", \"y\", \"z\"])\n",
        "    \n",
        "    #calculate force for every particle with every other particle\n",
        "    for i in range(N):\n",
        "        x1 = pos.iloc[i][0]\n",
        "        y1 = pos.iloc[i][1]\n",
        "        z1 = pos.iloc[i][2]\n",
        "        for j in range(i+1,N):\n",
        "            r_ij = distance_in_3D(list(pos.iloc[i]), list(pos.iloc[j]))\n",
        "            x2 = pos.iloc[j][0]\n",
        "            y2 = pos.iloc[j][1]\n",
        "            z2 = pos.iloc[j][2]\n",
        "            temp = 24*eps*((2*pow(sig,12))/pow(r_ij,14) - pow(sig, 6)/pow(r_ij, 8)) \n",
        "            force.iloc[i][0] += temp*(x1-x2)\n",
        "            force.iloc[j][0] += temp*(x2-x1)\n",
        "            force.iloc[i][1] += temp*(y1-y2)\n",
        "            force.iloc[j][1] += temp*(y2-y1)\n",
        "            force.iloc[i][2] += temp*(z1-z2)\n",
        "            force.iloc[j][2] += temp*(z2-z1)\n",
        "    #mass is 1 so force is same as acceleration\n",
        "    return force"
      ],
      "execution_count": 25,
      "outputs": []
    },
    {
      "cell_type": "code",
      "metadata": {
        "colab": {
          "base_uri": "https://localhost:8080/"
        },
        "id": "9lnkUiOzK4PI",
        "outputId": "69558acb-8ae1-4b9d-a799-32490146d560"
      },
      "source": [
        "sig=float(input(\"Enter the value of sigma:\"))\n",
        "eps=float(input(\"Enter the value of epsilon:\"))\n",
        "L=float(input(\"Enter the cell dimension:\"))\n",
        "rc=float(input(\"Enter the cut-off radius:\"))"
      ],
      "execution_count": 26,
      "outputs": [
        {
          "name": "stdout",
          "output_type": "stream",
          "text": [
            "Enter the value of sigma:3.4\n",
            "Enter the value of epsilon:1\n",
            "Enter the cell dimension:26\n",
            "Enter the cut-off radius:10\n"
          ]
        }
      ]
    },
    {
      "cell_type": "code",
      "metadata": {
        "id": "zZDWhDN18UP8",
        "colab": {
          "base_uri": "https://localhost:8080/"
        },
        "outputId": "cb15e1dc-c71f-4f47-cb22-c6fb0119ea81"
      },
      "source": [
        "for a, i in enumerate(l_steps):\n",
        "    pos = i\n",
        "    v_tot = cal_pot_energy(pos, pos.shape[0], L, rc, eps, sig)\n",
        "    print(\"Potential Energy for step \", a+1, \" = \", v_tot, \" kJ / mol\")"
      ],
      "execution_count": 27,
      "outputs": [
        {
          "output_type": "stream",
          "name": "stdout",
          "text": [
            "Potential Energy for step  1  =  -2067.9064297969207  kJ / mol\n",
            "Potential Energy for step  2  =  -2047.0301909069062  kJ / mol\n",
            "Potential Energy for step  3  =  -2056.215577890881  kJ / mol\n",
            "Potential Energy for step  4  =  -2055.5009115162293  kJ / mol\n",
            "Potential Energy for step  5  =  -2041.4760724951134  kJ / mol\n"
          ]
        }
      ]
    },
    {
      "cell_type": "code",
      "metadata": {
        "scrolled": true,
        "id": "kMlf_eHv8UP9",
        "colab": {
          "base_uri": "https://localhost:8080/",
          "height": 417
        },
        "outputId": "f0c08f0e-aa6f-452a-d4d0-8a86f70c22e3"
      },
      "source": [
        "force_step_1 = force_cal(step_1, step_1.shape[0], eps, sig)\n",
        "force_step_1"
      ],
      "execution_count": 28,
      "outputs": [
        {
          "output_type": "execute_result",
          "data": {
            "text/html": [
              "<div>\n",
              "<style scoped>\n",
              "    .dataframe tbody tr th:only-of-type {\n",
              "        vertical-align: middle;\n",
              "    }\n",
              "\n",
              "    .dataframe tbody tr th {\n",
              "        vertical-align: top;\n",
              "    }\n",
              "\n",
              "    .dataframe thead th {\n",
              "        text-align: right;\n",
              "    }\n",
              "</style>\n",
              "<table border=\"1\" class=\"dataframe\">\n",
              "  <thead>\n",
              "    <tr style=\"text-align: right;\">\n",
              "      <th></th>\n",
              "      <th>x</th>\n",
              "      <th>y</th>\n",
              "      <th>z</th>\n",
              "    </tr>\n",
              "  </thead>\n",
              "  <tbody>\n",
              "    <tr>\n",
              "      <th>0</th>\n",
              "      <td>-1.911426</td>\n",
              "      <td>0.511834</td>\n",
              "      <td>0.311538</td>\n",
              "    </tr>\n",
              "    <tr>\n",
              "      <th>1</th>\n",
              "      <td>2.154337</td>\n",
              "      <td>2.861268</td>\n",
              "      <td>-6.465524</td>\n",
              "    </tr>\n",
              "    <tr>\n",
              "      <th>2</th>\n",
              "      <td>-0.696979</td>\n",
              "      <td>1.475604</td>\n",
              "      <td>-0.500409</td>\n",
              "    </tr>\n",
              "    <tr>\n",
              "      <th>3</th>\n",
              "      <td>-3.368000</td>\n",
              "      <td>2.979613</td>\n",
              "      <td>3.102720</td>\n",
              "    </tr>\n",
              "    <tr>\n",
              "      <th>4</th>\n",
              "      <td>0.593019</td>\n",
              "      <td>2.310170</td>\n",
              "      <td>-3.254401</td>\n",
              "    </tr>\n",
              "    <tr>\n",
              "      <th>...</th>\n",
              "      <td>...</td>\n",
              "      <td>...</td>\n",
              "      <td>...</td>\n",
              "    </tr>\n",
              "    <tr>\n",
              "      <th>360</th>\n",
              "      <td>-2.454897</td>\n",
              "      <td>-4.199239</td>\n",
              "      <td>-15.078637</td>\n",
              "    </tr>\n",
              "    <tr>\n",
              "      <th>361</th>\n",
              "      <td>-2.354922</td>\n",
              "      <td>3.856777</td>\n",
              "      <td>1.315494</td>\n",
              "    </tr>\n",
              "    <tr>\n",
              "      <th>362</th>\n",
              "      <td>0.746483</td>\n",
              "      <td>-0.048458</td>\n",
              "      <td>-1.322170</td>\n",
              "    </tr>\n",
              "    <tr>\n",
              "      <th>363</th>\n",
              "      <td>2.176271</td>\n",
              "      <td>0.023178</td>\n",
              "      <td>8.137600</td>\n",
              "    </tr>\n",
              "    <tr>\n",
              "      <th>364</th>\n",
              "      <td>-2.917592</td>\n",
              "      <td>7.436326</td>\n",
              "      <td>-2.784994</td>\n",
              "    </tr>\n",
              "  </tbody>\n",
              "</table>\n",
              "<p>365 rows × 3 columns</p>\n",
              "</div>"
            ],
            "text/plain": [
              "            x         y          z\n",
              "0   -1.911426  0.511834   0.311538\n",
              "1    2.154337  2.861268  -6.465524\n",
              "2   -0.696979  1.475604  -0.500409\n",
              "3   -3.368000  2.979613   3.102720\n",
              "4    0.593019  2.310170  -3.254401\n",
              "..        ...       ...        ...\n",
              "360 -2.454897 -4.199239 -15.078637\n",
              "361 -2.354922  3.856777   1.315494\n",
              "362  0.746483 -0.048458  -1.322170\n",
              "363  2.176271  0.023178   8.137600\n",
              "364 -2.917592  7.436326  -2.784994\n",
              "\n",
              "[365 rows x 3 columns]"
            ]
          },
          "metadata": {},
          "execution_count": 28
        }
      ]
    },
    {
      "cell_type": "code",
      "metadata": {
        "id": "oIB072Uc8UP-"
      },
      "source": [
        "force_step_1.to_csv(\"force_step1_calculated.csv\")"
      ],
      "execution_count": 29,
      "outputs": []
    },
    {
      "cell_type": "code",
      "metadata": {
        "id": "NSeKT2LL8UP-"
      },
      "source": [
        ""
      ],
      "execution_count": null,
      "outputs": []
    },
    {
      "cell_type": "code",
      "metadata": {
        "id": "El_REUjw8UP-"
      },
      "source": [
        ""
      ],
      "execution_count": null,
      "outputs": []
    },
    {
      "cell_type": "code",
      "metadata": {
        "id": "INRitTJg8UP_"
      },
      "source": [
        ""
      ],
      "execution_count": null,
      "outputs": []
    },
    {
      "cell_type": "code",
      "metadata": {
        "id": "2KCA7wRk8UP_"
      },
      "source": [
        ""
      ],
      "execution_count": null,
      "outputs": []
    },
    {
      "cell_type": "code",
      "metadata": {
        "id": "Dd-SS1RZ8UP_"
      },
      "source": [
        ""
      ],
      "execution_count": null,
      "outputs": []
    },
    {
      "cell_type": "code",
      "metadata": {
        "id": "KC13avcB8UP_"
      },
      "source": [
        ""
      ],
      "execution_count": null,
      "outputs": []
    },
    {
      "cell_type": "code",
      "metadata": {
        "id": "Ij793hK98UP_"
      },
      "source": [
        ""
      ],
      "execution_count": null,
      "outputs": []
    },
    {
      "cell_type": "code",
      "metadata": {
        "id": "hBm192tu8UQA"
      },
      "source": [
        ""
      ],
      "execution_count": null,
      "outputs": []
    },
    {
      "cell_type": "code",
      "metadata": {
        "id": "yKp177Pp8UQA"
      },
      "source": [
        ""
      ],
      "execution_count": null,
      "outputs": []
    },
    {
      "cell_type": "code",
      "metadata": {
        "id": "xLOlOrvE8UQA"
      },
      "source": [
        ""
      ],
      "execution_count": null,
      "outputs": []
    },
    {
      "cell_type": "code",
      "metadata": {
        "id": "TY_RsOit8UQA"
      },
      "source": [
        ""
      ],
      "execution_count": null,
      "outputs": []
    },
    {
      "cell_type": "code",
      "metadata": {
        "id": "J86NufBJ8UQA"
      },
      "source": [
        ""
      ],
      "execution_count": null,
      "outputs": []
    },
    {
      "cell_type": "code",
      "metadata": {
        "id": "z0T1m8EL8UQB"
      },
      "source": [
        ""
      ],
      "execution_count": null,
      "outputs": []
    },
    {
      "cell_type": "code",
      "metadata": {
        "id": "JbkVFO_q8UQB"
      },
      "source": [
        ""
      ],
      "execution_count": null,
      "outputs": []
    },
    {
      "cell_type": "code",
      "metadata": {
        "id": "qDnO_8rS8UQB"
      },
      "source": [
        ""
      ],
      "execution_count": null,
      "outputs": []
    },
    {
      "cell_type": "code",
      "metadata": {
        "id": "yv-kPmho8UQB"
      },
      "source": [
        ""
      ],
      "execution_count": null,
      "outputs": []
    },
    {
      "cell_type": "code",
      "metadata": {
        "id": "eY383Anr8UQB"
      },
      "source": [
        ""
      ],
      "execution_count": null,
      "outputs": []
    },
    {
      "cell_type": "code",
      "metadata": {
        "id": "T2ijeFdm8UQB"
      },
      "source": [
        ""
      ],
      "execution_count": null,
      "outputs": []
    },
    {
      "cell_type": "code",
      "metadata": {
        "id": "ZReWdkrs8UQB"
      },
      "source": [
        ""
      ],
      "execution_count": null,
      "outputs": []
    },
    {
      "cell_type": "code",
      "metadata": {
        "id": "-KRSk-i78UQC"
      },
      "source": [
        ""
      ],
      "execution_count": null,
      "outputs": []
    },
    {
      "cell_type": "code",
      "metadata": {
        "id": "yXm8izyf8UQC"
      },
      "source": [
        ""
      ],
      "execution_count": null,
      "outputs": []
    },
    {
      "cell_type": "code",
      "metadata": {
        "id": "aX_P5Mo98UQC"
      },
      "source": [
        ""
      ],
      "execution_count": null,
      "outputs": []
    },
    {
      "cell_type": "code",
      "metadata": {
        "id": "uU86OsgS8UQC"
      },
      "source": [
        ""
      ],
      "execution_count": null,
      "outputs": []
    },
    {
      "cell_type": "code",
      "metadata": {
        "id": "XOYuLbpl8UQC"
      },
      "source": [
        ""
      ],
      "execution_count": null,
      "outputs": []
    },
    {
      "cell_type": "code",
      "metadata": {
        "id": "CEX41Z548UQC"
      },
      "source": [
        ""
      ],
      "execution_count": null,
      "outputs": []
    }
  ]
}